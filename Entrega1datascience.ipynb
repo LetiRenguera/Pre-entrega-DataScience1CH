{
  "nbformat": 4,
  "nbformat_minor": 0,
  "metadata": {
    "colab": {
      "provenance": [],
      "authorship_tag": "ABX9TyNkn7C9qW+WIfMc5FW2DDDU",
      "include_colab_link": true
    },
    "kernelspec": {
      "name": "python3",
      "display_name": "Python 3"
    },
    "language_info": {
      "name": "python"
    }
  },
  "cells": [
    {
      "cell_type": "markdown",
      "metadata": {
        "id": "view-in-github",
        "colab_type": "text"
      },
      "source": [
        "<a href=\"https://colab.research.google.com/github/LetiRenguera/Pre-entrega-DataScience1CH/blob/main/Entrega1datascience.ipynb\" target=\"_parent\"><img src=\"https://colab.research.google.com/assets/colab-badge.svg\" alt=\"Open In Colab\"/></a>"
      ]
    },
    {
      "cell_type": "markdown",
      "source": [
        " **PRE ENTREGA DATA SCIENCE 1 **"
      ],
      "metadata": {
        "id": "af8e3fHW6qwt"
      }
    },
    {
      "cell_type": "markdown",
      "source": [
        "\n",
        "*INTRODUCCIÓN*\n",
        "\n",
        "El tema de interés seleccionado para el desarrollo de la pre-entrega y luego entrega final es el análisis de estudiantes de matemáticas y su evolución para la aprobación de la materia.\n",
        "\n",
        "La base de datos corresponde al país de Portugal, y tiene como objeto de estudio dos colegios. Los estudiantes son mujeres y varones entre 15 y 22 años.\n",
        "\n",
        "Lo que intento analizar es la relación de éxito en la aprobación de la asignatura Matemática según la edad del estudiante y otras variables como la cantidad de tiempo libre, el tiempo de estudio y si poseen una relación amorosa. Tambien, comprobar si existe una correlación entre el nivel de educación y el tipo de trabajo de los tutores madres y padres de los alumnos y la notal final obtenida de la materia. Para ello defino las hipótesis a investigar.\n",
        "\n"
      ],
      "metadata": {
        "id": "KzQOaYaw6RsP"
      }
    },
    {
      "cell_type": "markdown",
      "source": [
        "***HIPOTESIS DE INVESTIGACIÓN***\n",
        "\n",
        " - HIPOTESIS 1\n",
        "\n",
        "\n",
        "LOS ESTUDIANTES DE MADRES Y PADRES QUE NO TRABAJAN O POSEEN TRABAJO PRECARIOS APRUEBAN MENOS MÁTEMATICA.\n",
        "\n",
        "- HIPOTESIS 2\n",
        "\n",
        "LOS ESTUDIANTES QUE SE ENCUENTRAN EN UNA RELACIÓN AMOROSA OBTIENEN MEJORES NOTAS.\n",
        "\n",
        "- HIPOTESIS 3\n",
        "\n",
        "LOS ESTUDIANTES CON MAYOR TIEMPO LIBRE OBTIENEN MEJORES NOTAS MIENTRAS QUE LOS ESTUDIANTES QUE MÁS SALEN CON AMIGOS Y CONSUMEN ALCOHOL OBTIENEN PEORES NOTAS.\n"
      ],
      "metadata": {
        "id": "z0eBVABOkUaL"
      }
    },
    {
      "cell_type": "markdown",
      "source": [
        "Para empezar, importo las bibliotecas y especifico la ruta del archivo para comenzar a analizar qué tipo de datos tengo. Proporcionamos algunos prompts para obtener información general sobre la base de datos, el tipo de datos y si contienen valores nulos."
      ],
      "metadata": {
        "id": "AOdYqhWowWdv"
      }
    },
    {
      "cell_type": "code",
      "source": [
        "# importamos librerias\n",
        "import pandas as pd\n",
        "import numpy as np\n",
        "import seaborn as sns\n",
        "import matplotlib.pyplot as plt\n"
      ],
      "metadata": {
        "id": "NQocLashHwxO"
      },
      "execution_count": null,
      "outputs": []
    },
    {
      "cell_type": "markdown",
      "source": [],
      "metadata": {
        "id": "4L3wg1g9H8sY"
      }
    },
    {
      "cell_type": "code",
      "source": [
        "\n",
        "\n",
        "# ingresamos la direccion del dataframe e investigamos los datos que contiene\n",
        "url = 'https://raw.githubusercontent.com/LetiRenguera/Pre-entrega-DataScience1CH/main/student-mat.csv'\n",
        "df = pd.read_csv(url)\n",
        "print(df.head(5))\n"
      ],
      "metadata": {
        "colab": {
          "base_uri": "https://localhost:8080/"
        },
        "id": "FMAsOGwv7f-W",
        "outputId": "5fee38cf-9491-4130-fe7f-501790845364"
      },
      "execution_count": null,
      "outputs": [
        {
          "output_type": "stream",
          "name": "stdout",
          "text": [
            "  school sex  age address famsize Pstatus  Medu  Fedu     Mjob      Fjob  ...  \\\n",
            "0     GP   F   18       U     GT3       A     4     4  at_home   teacher  ...   \n",
            "1     GP   F   17       U     GT3       T     1     1  at_home     other  ...   \n",
            "2     GP   F   15       U     LE3       T     1     1  at_home     other  ...   \n",
            "3     GP   F   15       U     GT3       T     4     2   health  services  ...   \n",
            "4     GP   F   16       U     GT3       T     3     3    other     other  ...   \n",
            "\n",
            "  famrel freetime  goout  Dalc  Walc health absences  G1  G2  G3  \n",
            "0      4        3      4     1     1      3        6   5   6   6  \n",
            "1      5        3      3     1     1      3        4   5   5   6  \n",
            "2      4        3      2     2     3      3       10   7   8  10  \n",
            "3      3        2      2     1     1      5        2  15  14  15  \n",
            "4      4        3      2     1     2      5        4   6  10  10  \n",
            "\n",
            "[5 rows x 33 columns]\n"
          ]
        }
      ]
    },
    {
      "cell_type": "markdown",
      "source": [
        "En esta primera entrada, se observo que el dataset contiene 33 columnas, y en las primeras 5 filas puedo verificar que contiene datos númericos y de texto."
      ],
      "metadata": {
        "id": "4wJl4YG08PVR"
      }
    },
    {
      "cell_type": "code",
      "source": [
        "# investigamos el tamaño o dimensión del dataframe\n",
        "dimensiondf = df.shape\n",
        "print(dimensiondf)"
      ],
      "metadata": {
        "colab": {
          "base_uri": "https://localhost:8080/"
        },
        "id": "3k-RX73Gf5zG",
        "outputId": "c7fc2c32-a1f2-4877-a9f6-c8376a308c49"
      },
      "execution_count": null,
      "outputs": [
        {
          "output_type": "stream",
          "name": "stdout",
          "text": [
            "(395, 33)\n"
          ]
        }
      ]
    },
    {
      "cell_type": "markdown",
      "source": [
        "# Traducimos los atributos para entender el objetivo de los datos."
      ],
      "metadata": {
        "id": "WcyTtVemF6RE"
      }
    },
    {
      "cell_type": "markdown",
      "source": [
        "***    Información de atributos: ***\n",
        "1. escuela - escuela del estudiante (binario: 'GP' - Gabriel Pereira o 'MS' - Mousinho da Silveira)\n",
        "2. sexo - sexo del estudiante (binario: 'F' - femenino o 'M' - masculino)\n",
        "3. Edad - Edad del estudiante (numérico: de 15 a 22)\n",
        "4. Dirección: tipo de dirección de la casa del estudiante (binario: 'U' - urbano o 'R' - rural)\n",
        "5. famsize - tamaño de la familia (binario: 'LE3' - menor o igual a 3 o 'GT3' - mayor que 3)\n",
        "6. Pstatus: estado de convivencia de los padres (binario: 'T' - convivencia o 'A' - separación)\n",
        "7. Medu - educación de la madre (numérico: 0 - ninguno, 1 - educación primaria (4º grado), 2 - 5º a 9º grado, 3 - educación secundaria o 4 - educación superior)\n",
        "8. Fedu - educación del padre (numérico: 0 - ninguno, 1 - educación primaria (4º grado), 2 - 5º a 9º grado, 3 - educación secundaria o 4 - educación superior)\n",
        "9. Mjob: trabajo de la madre (nominal: 'profesora', 'salud' relacionada con la atención, 'servicios' civiles (por ejemplo, administrativos o policiales), 'en casa' u 'otro')\n",
        "10. Fjob - trabajo del padre (nominal: 'profesor', 'relacionado con la salud', 'servicios' civiles (por ejemplo, administrativos o policiales), 'en casa' u 'otro')\n",
        "11. Razón - Razón para elegir esta escuela (nominal: cerca de 'casa', 'reputación' de la escuela, preferencia de 'curso' u 'otra')\n",
        "12. Tutor - Tutor del estudiante (nominal: 'madre', 'padre' u 'otro')\n",
        "13. Tiempo de viaje - Tiempo de viaje de casa a la escuela (numérico: 1 - <15 min., 2 - 15 a 30 min., 3 - 30 min. a 1 hora, o 4 - >1 hora)\n",
        "14. Tiempo de estudio - Tiempo de estudio semanal (numérico: 1 - <2 horas, 2 - 2 a 5 horas, 3 - 5 a 10 horas, o 4 - >10 horas)\n",
        "15. failures - número de fallos de clase pasados (numérico: n si 1<=n<3, else 4)\n",
        "16. SchoolsUP - Apoyo Educativo Extra (Binario: Sí o No)\n",
        "17. FAMSUP - Apoyo Educativo Familiar (Binario: Sí o No)\n",
        "18. paid - clases extra pagadas dentro de la materia del curso (Matemáticas o Portugués) (binario: sí o no)\n",
        "19. Actividades - Actividades extracurriculares (binario: sí o no)\n",
        "20. Nursery - Asistió a la escuela infantil (binario: sí o no)\n",
        "21. higher - quiere tomar educación superior (binario: sí o no)\n",
        "22. internet - Acceso a internet en casa (binario: sí o no)\n",
        "23. Romántico - con una relación romántica (binario: sí o no)\n",
        "24. Famrel - Calidad de las relaciones familiares (numérico: de 1 - muy malo a 5 - excelente)\n",
        "25. Tiempo libre - Tiempo libre después de la escuela (numérico: de 1 - muy bajo a 5 - muy alto)\n",
        "26. Goout - Salir con amigos (numérico: de 1 - muy bajo a 5 - muy alto)\n",
        "27. Dalc - consumo de alcohol en la jornada laboral (numérico: de 1 - muy bajo a 5 - muy alto)\n",
        "28. Walc - consumo de alcohol durante el fin de semana (numérico: de 1 - muy bajo a 5 - muy alto)\n",
        "29. health -Salud - estado de salud actual (numérico: de 1 - muy malo a 5 - muy bueno)\n",
        "30. absents- Ausencias - Número de ausencias escolares (numérico: de 0 a 93).\n",
        "31. G1 - calificación del primer período (numérica: de 0 a 20)\n",
        "32. G2 - calificación del segundo período (numérica: de 0 a 20)\n",
        "33. G3 - calificación final (numérica: de 0 a 20, objetivo de salida)\n"
      ],
      "metadata": {
        "id": "x8LmUajBFAHq"
      }
    },
    {
      "cell_type": "code",
      "source": [
        "# Información general del dataframe.\n",
        "print(df.info())"
      ],
      "metadata": {
        "colab": {
          "base_uri": "https://localhost:8080/"
        },
        "id": "_Q-8nTj3-cS5",
        "outputId": "b0e28061-f57e-48c3-cffd-e032647ef21f"
      },
      "execution_count": null,
      "outputs": [
        {
          "output_type": "stream",
          "name": "stdout",
          "text": [
            "<class 'pandas.core.frame.DataFrame'>\n",
            "RangeIndex: 395 entries, 0 to 394\n",
            "Data columns (total 33 columns):\n",
            " #   Column      Non-Null Count  Dtype \n",
            "---  ------      --------------  ----- \n",
            " 0   school      395 non-null    object\n",
            " 1   sex         395 non-null    object\n",
            " 2   age         395 non-null    int64 \n",
            " 3   address     395 non-null    object\n",
            " 4   famsize     395 non-null    object\n",
            " 5   Pstatus     395 non-null    object\n",
            " 6   Medu        395 non-null    int64 \n",
            " 7   Fedu        395 non-null    int64 \n",
            " 8   Mjob        395 non-null    object\n",
            " 9   Fjob        395 non-null    object\n",
            " 10  reason      395 non-null    object\n",
            " 11  guardian    395 non-null    object\n",
            " 12  traveltime  395 non-null    int64 \n",
            " 13  studytime   395 non-null    int64 \n",
            " 14  failures    395 non-null    int64 \n",
            " 15  schoolsup   395 non-null    object\n",
            " 16  famsup      395 non-null    object\n",
            " 17  paid        395 non-null    object\n",
            " 18  activities  395 non-null    object\n",
            " 19  nursery     395 non-null    object\n",
            " 20  higher      395 non-null    object\n",
            " 21  internet    395 non-null    object\n",
            " 22  romantic    395 non-null    object\n",
            " 23  famrel      395 non-null    int64 \n",
            " 24  freetime    395 non-null    int64 \n",
            " 25  goout       395 non-null    int64 \n",
            " 26  Dalc        395 non-null    int64 \n",
            " 27  Walc        395 non-null    int64 \n",
            " 28  health      395 non-null    int64 \n",
            " 29  absences    395 non-null    int64 \n",
            " 30  G1          395 non-null    int64 \n",
            " 31  G2          395 non-null    int64 \n",
            " 32  G3          395 non-null    int64 \n",
            "dtypes: int64(16), object(17)\n",
            "memory usage: 102.0+ KB\n",
            "None\n"
          ]
        }
      ]
    },
    {
      "cell_type": "markdown",
      "source": [
        "El tipo de dato obervado es int64, datos del estilo númerico y datos object correspondientes a datos compuesto por caracteres o números. Además, se puede observar que no contiene datos nulos."
      ],
      "metadata": {
        "id": "G1z0Mflr_ZmJ"
      }
    },
    {
      "cell_type": "code",
      "source": [
        "# Verificar las columnas disponibles.\n",
        "print(df.columns)"
      ],
      "metadata": {
        "colab": {
          "base_uri": "https://localhost:8080/"
        },
        "id": "PdblNTdpCT8L",
        "outputId": "94765ad6-dad2-43e5-c86a-b29be3f7947c"
      },
      "execution_count": null,
      "outputs": [
        {
          "output_type": "stream",
          "name": "stdout",
          "text": [
            "Index(['school', 'sex', 'age', 'address', 'famsize', 'Pstatus', 'Medu', 'Fedu',\n",
            "       'Mjob', 'Fjob', 'reason', 'guardian', 'traveltime', 'studytime',\n",
            "       'failures', 'schoolsup', 'famsup', 'paid', 'activities', 'nursery',\n",
            "       'higher', 'internet', 'romantic', 'famrel', 'freetime', 'goout', 'Dalc',\n",
            "       'Walc', 'health', 'absences', 'G1', 'G2', 'G3'],\n",
            "      dtype='object')\n"
          ]
        }
      ]
    },
    {
      "cell_type": "markdown",
      "source": [
        "Obervamos los titulos de las columnas que nos permmiten ir conociendo mejor el contenido del dataframe.\n",
        "traducimos las columnas.\n",
        "'escuela', 'sexo', 'edad', 'dirección', 'tamaño de familia', 'estado de la familia', 'medio', 'fedu',\n",
        "'trabajo', 'trabajo', 'motivo', 'tutor', 'tiempo de viaje', 'tiempo de estudio',\n",
        "'fracasos', 'escuela', 'escuela', 'pagado', 'actividades', 'guardería',\n",
        "'superior', 'internet', 'romántico', 'familia', 'tiempo libre', 'salir', 'Dalc',\n",
        "'Walc', 'salud', 'ausencias', 'G1', 'G2', 'G3'],\n",
        "\n",
        "\n",
        "\n"
      ],
      "metadata": {
        "id": "VzwxzbQkCq7k"
      }
    },
    {
      "cell_type": "markdown",
      "source": [
        "Para continuar con el análisis de los datos, creo algunas variables para empezar a construir algunas agrupaciones y sumas de datos.\n"
      ],
      "metadata": {
        "id": "uM0kY2XRoMj5"
      }
    },
    {
      "cell_type": "code",
      "source": [
        "# calculo cantidad de Género Femenino y Masculino\n",
        "df['sex'].value_counts()"
      ],
      "metadata": {
        "colab": {
          "base_uri": "https://localhost:8080/",
          "height": 178
        },
        "id": "Zdq-zd7paBKL",
        "outputId": "68209556-7054-4fe3-a41f-c23630bf96ea"
      },
      "execution_count": null,
      "outputs": [
        {
          "output_type": "execute_result",
          "data": {
            "text/plain": [
              "sex\n",
              "F    208\n",
              "M    187\n",
              "Name: count, dtype: int64"
            ],
            "text/html": [
              "<div>\n",
              "<style scoped>\n",
              "    .dataframe tbody tr th:only-of-type {\n",
              "        vertical-align: middle;\n",
              "    }\n",
              "\n",
              "    .dataframe tbody tr th {\n",
              "        vertical-align: top;\n",
              "    }\n",
              "\n",
              "    .dataframe thead th {\n",
              "        text-align: right;\n",
              "    }\n",
              "</style>\n",
              "<table border=\"1\" class=\"dataframe\">\n",
              "  <thead>\n",
              "    <tr style=\"text-align: right;\">\n",
              "      <th></th>\n",
              "      <th>count</th>\n",
              "    </tr>\n",
              "    <tr>\n",
              "      <th>sex</th>\n",
              "      <th></th>\n",
              "    </tr>\n",
              "  </thead>\n",
              "  <tbody>\n",
              "    <tr>\n",
              "      <th>F</th>\n",
              "      <td>208</td>\n",
              "    </tr>\n",
              "    <tr>\n",
              "      <th>M</th>\n",
              "      <td>187</td>\n",
              "    </tr>\n",
              "  </tbody>\n",
              "</table>\n",
              "</div><br><label><b>dtype:</b> int64</label>"
            ]
          },
          "metadata": {},
          "execution_count": 9
        }
      ]
    },
    {
      "cell_type": "code",
      "source": [
        "# defino la variable \"edad\" y cuento agrupado por edad.\n",
        "edad =  df['age']\n",
        "print (edad.value_counts())\n"
      ],
      "metadata": {
        "colab": {
          "base_uri": "https://localhost:8080/"
        },
        "id": "kMNJYAucasjx",
        "outputId": "0d37cea8-edd2-4984-e4db-56adb21e90d6"
      },
      "execution_count": null,
      "outputs": [
        {
          "output_type": "stream",
          "name": "stdout",
          "text": [
            "age\n",
            "16    104\n",
            "17     98\n",
            "18     82\n",
            "15     82\n",
            "19     24\n",
            "20      3\n",
            "22      1\n",
            "21      1\n",
            "Name: count, dtype: int64\n"
          ]
        }
      ]
    },
    {
      "cell_type": "code",
      "source": [
        "# Defino la variable \"Género\" y cuento agrupado por género.\n",
        "genero = df['sex']\n",
        "print(genero.value_counts())"
      ],
      "metadata": {
        "colab": {
          "base_uri": "https://localhost:8080/"
        },
        "id": "E7ellDTeX7j_",
        "outputId": "63345c23-9f7f-4a98-dbf4-e3d89b09dfb0"
      },
      "execution_count": null,
      "outputs": [
        {
          "output_type": "stream",
          "name": "stdout",
          "text": [
            "sex\n",
            "F    208\n",
            "M    187\n",
            "Name: count, dtype: int64\n"
          ]
        }
      ]
    },
    {
      "cell_type": "code",
      "source": [
        "# Buscamos agrupar los datos de las variables edad y género para sumar en totales.\n",
        "genero_edad = df.groupby(['sex', 'age']).size()\n",
        "print(genero_edad.sum)"
      ],
      "metadata": {
        "colab": {
          "base_uri": "https://localhost:8080/"
        },
        "id": "AtnH3iujZkZ6",
        "outputId": "e9faae4e-2814-4375-c698-ce09168a20f9"
      },
      "execution_count": null,
      "outputs": [
        {
          "output_type": "stream",
          "name": "stdout",
          "text": [
            "<bound method Series.sum of sex  age\n",
            "F    15     38\n",
            "     16     54\n",
            "     17     58\n",
            "     18     43\n",
            "     19     14\n",
            "     20      1\n",
            "M    15     44\n",
            "     16     50\n",
            "     17     40\n",
            "     18     39\n",
            "     19     10\n",
            "     20      2\n",
            "     21      1\n",
            "     22      1\n",
            "dtype: int64>\n"
          ]
        }
      ]
    },
    {
      "cell_type": "markdown",
      "source": [],
      "metadata": {
        "id": "9cI0gF7HdI1L"
      }
    },
    {
      "cell_type": "code",
      "source": [
        "# Calculo la cantidad de estudiantes en una relación amorosa.\n",
        "Romance = df['romantic']\n",
        "print(Romance.value_counts())\n"
      ],
      "metadata": {
        "colab": {
          "base_uri": "https://localhost:8080/"
        },
        "id": "AMWKauDJfCqf",
        "outputId": "01b69b48-cf26-4979-94e1-1922a0f3ee08"
      },
      "execution_count": null,
      "outputs": [
        {
          "output_type": "stream",
          "name": "stdout",
          "text": [
            "romantic\n",
            "no     263\n",
            "yes    132\n",
            "Name: count, dtype: int64\n"
          ]
        }
      ]
    },
    {
      "cell_type": "code",
      "source": [
        "# Quiero agrupar la cantidad de estudiantes de novio por sexo y edad.\n",
        "estudiantes_novios= df.groupby(['age', 'sex', 'romantic'])['romantic'].count().reset_index(name='count')\n",
        "print(estudiantes_novios)"
      ],
      "metadata": {
        "colab": {
          "base_uri": "https://localhost:8080/"
        },
        "id": "sCLwR9EWjgNh",
        "outputId": "a9e8af63-be69-4446-dc92-7ea02a1635f2"
      },
      "execution_count": null,
      "outputs": [
        {
          "output_type": "stream",
          "name": "stdout",
          "text": [
            "    age sex romantic  count\n",
            "0    15   F       no     28\n",
            "1    15   F      yes     10\n",
            "2    15   M       no     35\n",
            "3    15   M      yes      9\n",
            "4    16   F       no     39\n",
            "5    16   F      yes     15\n",
            "6    16   M       no     37\n",
            "7    16   M      yes     13\n",
            "8    17   F       no     33\n",
            "9    17   F      yes     25\n",
            "10   17   M       no     28\n",
            "11   17   M      yes     12\n",
            "12   18   F       no     22\n",
            "13   18   F      yes     21\n",
            "14   18   M       no     25\n",
            "15   18   M      yes     14\n",
            "16   19   F       no      7\n",
            "17   19   F      yes      7\n",
            "18   19   M       no      6\n",
            "19   19   M      yes      4\n",
            "20   20   F      yes      1\n",
            "21   20   M       no      2\n",
            "22   21   M       no      1\n",
            "23   22   M      yes      1\n"
          ]
        }
      ]
    },
    {
      "cell_type": "code",
      "source": [
        "# Defino las variables para el trabajo paterno y materno y obtengo valores según los tipos de trabajo.\n",
        "trabajo_madre = df['Mjob']\n",
        "trabajo_padre = df['Fjob']\n",
        "print(trabajo_madre.value_counts())\n",
        "print(trabajo_padre.value_counts())"
      ],
      "metadata": {
        "colab": {
          "base_uri": "https://localhost:8080/"
        },
        "outputId": "62f55a5d-3797-4316-9555-75345e99c856",
        "id": "UbDoz1VhiIaA"
      },
      "execution_count": null,
      "outputs": [
        {
          "output_type": "stream",
          "name": "stdout",
          "text": [
            "Mjob\n",
            "other       141\n",
            "services    103\n",
            "at_home      59\n",
            "teacher      58\n",
            "health       34\n",
            "Name: count, dtype: int64\n",
            "Fjob\n",
            "other       217\n",
            "services    111\n",
            "teacher      29\n",
            "at_home      20\n",
            "health       18\n",
            "Name: count, dtype: int64\n"
          ]
        }
      ]
    },
    {
      "cell_type": "code",
      "source": [
        "# Defino las variables para el nivel de educación de padres y madres.\n",
        "nivel_de_educacion_madre = df[('Fedu')]\n",
        "nivel_de_educacion_padre = df[('Medu')]\n",
        "print(nivel_de_educacion_madre.value_counts())\n",
        "print(nivel_de_educacion_padre.value_counts())"
      ],
      "metadata": {
        "colab": {
          "base_uri": "https://localhost:8080/"
        },
        "id": "pX5fclN-tz6d",
        "outputId": "9f92f486-7468-41b6-8214-ba496937de65"
      },
      "execution_count": null,
      "outputs": [
        {
          "output_type": "stream",
          "name": "stdout",
          "text": [
            "Fedu\n",
            "2    115\n",
            "3    100\n",
            "4     96\n",
            "1     82\n",
            "0      2\n",
            "Name: count, dtype: int64\n",
            "Medu\n",
            "4    131\n",
            "2    103\n",
            "3     99\n",
            "1     59\n",
            "0      3\n",
            "Name: count, dtype: int64\n"
          ]
        }
      ]
    },
    {
      "cell_type": "code",
      "source": [
        "Consumo_de_alcohol_semanal = df['Dalc']\n",
        "consumo_de_alcohol_fin_de_semana = df['Walc']\n",
        "tiempo_libre = df['freetime']\n",
        "salidas_con_amigos = df['goout']\n",
        "\n"
      ],
      "metadata": {
        "id": "DrTeDjfnGu-D"
      },
      "execution_count": null,
      "outputs": []
    },
    {
      "cell_type": "code",
      "source": [
        "# analizamos en función de los patrones de uso del tiempo libre para comparar las notas finales alcanzadas\n",
        "resultado_notas = df['G3']\n",
        "uso_del_tiempo = df[['age', 'Dalc', 'Walc', 'freetime', 'goout','G3']]\n",
        "uso_del_tiempo = uso_del_tiempo.set_index(df.index)\n",
        "uso_del_tiempo= uso_del_tiempo.rename(columns={\n",
        "       'Dalc': 'Alcohol_diario',\n",
        "       'Walc': 'Alcohol_semanal',\n",
        "       'freetime': 'Tiempo_libre',\n",
        "       'goout': 'Salidas_amigos'})\n",
        "print(uso_del_tiempo)"
      ],
      "metadata": {
        "colab": {
          "base_uri": "https://localhost:8080/"
        },
        "id": "cUN1R-hKJFdZ",
        "outputId": "c3906f15-19d1-4bb0-ce30-5e8e4dd7ad3b"
      },
      "execution_count": null,
      "outputs": [
        {
          "output_type": "stream",
          "name": "stdout",
          "text": [
            "     age  Alcohol_diario  Alcohol_semanal  Tiempo_libre  Salidas_amigos  G3\n",
            "0     18               1                1             3               4   6\n",
            "1     17               1                1             3               3   6\n",
            "2     15               2                3             3               2  10\n",
            "3     15               1                1             2               2  15\n",
            "4     16               1                2             3               2  10\n",
            "..   ...             ...              ...           ...             ...  ..\n",
            "390   20               4                5             5               4   9\n",
            "391   17               3                4             4               5  16\n",
            "392   21               3                3             5               3   7\n",
            "393   18               3                4             4               1  10\n",
            "394   19               3                3             2               3   9\n",
            "\n",
            "[395 rows x 6 columns]\n"
          ]
        }
      ]
    },
    {
      "cell_type": "code",
      "source": [
        "# comparamos la variable tiempo de estudio con las notas finales y clasificamos arbitrariamente en \"aprobo\" si es mayor a 10 y \"no aprobo\" si es menor a 10, en una escala de 0 a 20.\n",
        "\n",
        "tiempo_de_estudio = df['studytime']\n",
        "resultado_notas = df['G3']\n",
        "calidad_tiemporesultado = df[['studytime', 'G3']]\n",
        "calidad_tiemporesultado['resultado'] = calidad_tiemporesultado['G3'].apply(lambda x: 'aprobo' if x >= 10 else 'desaprobo')\n",
        "calidad_tiemporesultado = calidad_tiemporesultado.rename(columns={'studytime': 'tiempo_de_estudio', 'G3': 'resultado_notas', 'resultado': 'resultado'})\n",
        "print(calidad_tiemporesultado)\n"
      ],
      "metadata": {
        "colab": {
          "base_uri": "https://localhost:8080/"
        },
        "id": "HYofnm2FLu4B",
        "outputId": "4f5d6d95-6372-4af6-c173-dcaa68f291a9"
      },
      "execution_count": null,
      "outputs": [
        {
          "output_type": "stream",
          "name": "stdout",
          "text": [
            "     tiempo_de_estudio  resultado_notas  resultado\n",
            "0                    2                6  desaprobo\n",
            "1                    2                6  desaprobo\n",
            "2                    2               10     aprobo\n",
            "3                    3               15     aprobo\n",
            "4                    2               10     aprobo\n",
            "..                 ...              ...        ...\n",
            "390                  2                9  desaprobo\n",
            "391                  1               16     aprobo\n",
            "392                  1                7  desaprobo\n",
            "393                  1               10     aprobo\n",
            "394                  1                9  desaprobo\n",
            "\n",
            "[395 rows x 3 columns]\n"
          ]
        },
        {
          "output_type": "stream",
          "name": "stderr",
          "text": [
            "<ipython-input-19-5b5011aa71b0>:6: SettingWithCopyWarning: \n",
            "A value is trying to be set on a copy of a slice from a DataFrame.\n",
            "Try using .loc[row_indexer,col_indexer] = value instead\n",
            "\n",
            "See the caveats in the documentation: https://pandas.pydata.org/pandas-docs/stable/user_guide/indexing.html#returning-a-view-versus-a-copy\n",
            "  calidad_tiemporesultado['resultado'] = calidad_tiemporesultado['G3'].apply(lambda x: 'aprobo' if x >= 10 else 'desaprobo')\n"
          ]
        }
      ]
    },
    {
      "cell_type": "code",
      "source": [
        "# Gráfico para comparar la distribución del trabajo de madre y padre.\n",
        "\n",
        "# Defino variables para trabajo de madre y padre.\n",
        "trabajo_madre = df['Mjob']\n",
        "trabajo_padre = df['Fjob']\n",
        "\n",
        "# unifico las columnas que esten en el mismo orden\n",
        "job_categories = pd.unique(df[['Mjob', 'Fjob']].values.ravel())\n",
        "\n",
        "# Creo 2 figuras subplots\n",
        "fig, axes = plt.subplots(1, 2, figsize=(12, 6))\n",
        "\n",
        "# realizo la dsitribución de las clasdes de trabajo para madres.\n",
        "sns.countplot(x=trabajo_madre, ax=axes[0], order=job_categories,  )\n",
        "axes[0].set_title('Distribución del trabajo de la madre')\n",
        "axes[0].set_xlabel('Trabajo de la madre')\n",
        "axes[0].set_ylabel('Cantidad')\n",
        "\n",
        "# realizo la dsitribución de las clases de trabajo para padres.\n",
        "sns.countplot(x=trabajo_padre, ax=axes[1], order=job_categories, color=\"#50AE20\")\n",
        "axes[1].set_title('Distribución del trabajo del padre')\n",
        "axes[1].set_xlabel('Trabajo del padre')\n",
        "axes[1].set_ylabel('Cantidad')\n",
        "\n",
        "axes[0].tick_params(axis='x', rotation=45)\n",
        "axes[1].tick_params(axis='x', rotation=45)\n",
        "\n",
        "# establezco el limite superior para el eje y, para que los graficos tengan la misma escala.\n",
        "axes[0].set_ylim(0, 220)\n",
        "axes[1].set_ylim(0, 220)\n",
        "\n",
        "plt.tight_layout()\n",
        "plt.show()"
      ],
      "metadata": {
        "colab": {
          "base_uri": "https://localhost:8080/",
          "height": 431
        },
        "id": "oZSbnQmyQynX",
        "outputId": "8b1e646b-7824-40fa-d374-2f84b58b7855"
      },
      "execution_count": null,
      "outputs": [
        {
          "output_type": "display_data",
          "data": {
            "text/plain": [
              "<Figure size 1200x600 with 2 Axes>"
            ],
            "image/png": "[encoded data removed]"
          },
          "metadata": {}
        }
      ]
    },
    {
      "cell_type": "markdown",
      "source": [
        "En el gráfico de barras, comparamos el tipo de trabajo entre las madres y padres. Se observa que, es mayor la cantidad de madres que se dedican a tareas del hogar respecto de los padres. También, observamos que los padres se dedican mucho más a otro tipo de rubros y no tanto , a la enseñanza, salud y servicios.\n"
      ],
      "metadata": {
        "id": "GKYoArZQ3Apk"
      }
    },
    {
      "cell_type": "code",
      "source": [
        "\n",
        "# Gráfico de barras para definir notas y relación amorosa.\n",
        "sns.barplot(x=\"romantic\", y=\"G3\", data=df , color=\"#90EE90\")\n",
        "plt.title(\"Relación entre Relación Amorosa y Nota Final (G3)\")\n",
        "plt.xlabel(\"Relación Amorosa (SI/NO)\")\n",
        "plt.ylabel(\"Nota Final (G3)\")\n",
        "plt.show()"
      ],
      "metadata": {
        "colab": {
          "base_uri": "https://localhost:8080/",
          "height": 472
        },
        "id": "1Hmm8kzuUPju",
        "outputId": "19b44eaa-e505-43bd-c06b-0c2042f3d0e0"
      },
      "execution_count": null,
      "outputs": [
        {
          "output_type": "display_data",
          "data": {
            "text/plain": [
              "<Figure size 640x480 with 1 Axes>"
            ],
            "image/png": "[encoded data removed]"
          },
          "metadata": {}
        }
      ]
    },
    {
      "cell_type": "markdown",
      "source": [
        "En este gráfico, podemos visualizar rapidamente que los estudiantes que no se encuentran en una relación amorosa alcanzan notas más altas."
      ],
      "metadata": {
        "id": "G5E5YrpR4hIn"
      }
    },
    {
      "cell_type": "code",
      "source": [
        "sns.boxplot(x=\"romantic\", y=\"G3\", data=df, color=\"lightblue\")\n",
        "plt.title(\"Relación entre Relación Amorosa y Nota Final\")\n",
        "plt.xlabel(\"Relación Amorosa\")\n",
        "plt.ylabel(\"Nota Final\")\n",
        "plt.show()"
      ],
      "metadata": {
        "colab": {
          "base_uri": "https://localhost:8080/",
          "height": 472
        },
        "id": "602zbR9uWo7W",
        "outputId": "165969aa-f922-4307-bd7b-b664d7cf2ee4"
      },
      "execution_count": null,
      "outputs": [
        {
          "output_type": "display_data",
          "data": {
            "text/plain": [
              "<Figure size 640x480 with 1 Axes>"
            ],
            "image/png": "[encoded data removed]"
          },
          "metadata": {}
        }
      ]
    },
    {
      "cell_type": "markdown",
      "source": [
        "USe caja de bigotes para visualizar la nota final según el estado de relación amorosa.\n",
        "La caja de bigotes"
      ],
      "metadata": {
        "id": "Lw_S6XXS549T"
      }
    },
    {
      "cell_type": "code",
      "source": [
        "# Create a new column 'approved' based on 'G3'\n",
        "df['approved'] = df['G3'].apply(lambda x: 'approved' if x >= 10 else 'disapproved')\n",
        "\n",
        "# Group data by 'studytime' and 'approved' and count occurrences\n",
        "studytime_approved = df.groupby(['studytime', 'approved'])['approved'].count().reset_index(name='count')\n",
        "\n",
        "# Create a pivot table for the stacked bar chart\n",
        "studytime_pivot = studytime_approved.pivot(index='studytime', columns='approved', values='count')\n",
        "\n",
        "# Define custom labels for study time categories\n",
        "studytime_labels = {\n",
        "    1: \"<2 horas\",\n",
        "    2: \"2 a 5 horas\",\n",
        "    3: \"5 a 10 horas\",\n",
        "    4: \">10 horas\"\n",
        "}\n",
        "\n",
        "# Create the stacked bar chart\n",
        "studytime_pivot.plot(kind='bar', stacked=True, figsize=(10, 6))\n",
        "plt.title('Distribución de Estudiantes Aprobados/Desaprobados por Tiempo de Estudio')\n",
        "plt.xlabel('Tiempo de Estudio')\n",
        "plt.ylabel('Cantidad de Estudiantes')\n",
        "plt.xticks(np.arange(len(studytime_pivot.index)), [studytime_labels.get(st) for st in studytime_pivot.index], rotation=0)\n",
        "plt.legend(title='Estado', loc='upper right')\n",
        "plt.tight_layout()\n",
        "plt.show()"
      ],
      "metadata": {
        "colab": {
          "base_uri": "https://localhost:8080/",
          "height": 513
        },
        "id": "X7tPMLMYYvVH",
        "outputId": "6688067d-17e4-4845-8c68-e8706441b9a8"
      },
      "execution_count": null,
      "outputs": [
        {
          "output_type": "display_data",
          "data": {
            "text/plain": [
              "<Figure size 1000x600 with 1 Axes>"
            ],
            "image/png": "[encoded data removed]"
          },
          "metadata": {}
        }
      ]
    },
    {
      "cell_type": "markdown",
      "source": [
        "En este gráfico de barras apiladas, se muestra la relación de la cantidad de tiempo de estudio y si aprobó o no. Indicando una mayor tendencia hacia mas horas de estudio menos desaprobados."
      ],
      "metadata": {
        "id": "gpyjU-X05J8f"
      }
    }
  ]
}