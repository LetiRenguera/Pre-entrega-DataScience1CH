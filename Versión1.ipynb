{
  "cells": [
    {
      "cell_type": "markdown",
      "metadata": {
        "id": "view-in-github",
        "colab_type": "text"
      },
      "source": [
        "<a href=\"https://colab.research.google.com/github/LetiRenguera/Pre-entrega-DataScience1CH/blob/main/Versi%C3%B3n1.ipynb\" target=\"_parent\"><img src=\"https://colab.research.google.com/assets/colab-badge.svg\" alt=\"Open In Colab\"/></a>"
      ]
    },
    {
      "cell_type": "code",
      "execution_count": null,
      "metadata": {
        "id": "zwFnJsE6vjf8"
      },
      "outputs": [],
      "source": []
    },
    {
      "cell_type": "markdown",
      "source": [
        "INTRODUCCIÓN\n",
        "\n",
        "El tema de interes seleccionado para el desarrollo de la pre-entrega y luego entrega final es el análisis de estudiantes de matemáticas y su evolución en la aprobación de la materia.\n",
        "\n",
        "La base de datos corresponde al país de Portugal, y tiene como objeto de estudio dos colegios. Los estudiantes son mujeres y varones entre 15 y 22 años.\n",
        "\n",
        "Lo que intento analizar es la relación de éxito en la aprobación de la asignatura Matemática según la edad del estudiante y otras variables como el consumo de alcohol, tiempo de estudio y si poseen una relación amorosa. Tambien, comprobar si existe una correlación entre el nivel de educación de los tutores o padres de los alumnos y su notal final de la materia.\n",
        "\n",
        "En principio, cargo las librerias y la ruta del archivo para empezar a analizar que tipo de datos tenemos. Indicamos algunos prompt para determinar información general de la base de datos, tipo de datos y si contienen valores nulos.\n",
        "\n",
        "\n",
        "\n",
        "\n"
      ],
      "metadata": {
        "id": "VhPD_EZIDR1V"
      }
    },
    {
      "cell_type": "code",
      "source": [
        "import pandas as pd\n",
        "\n",
        "url = 'https://raw.githubusercontent.com/LetiRenguera/Pre-entrega-DataScience1CH/main/student-mat.csv'\n",
        "df = pd.read_csv(url)\n",
        "print(df.head(5))"
      ],
      "metadata": {
        "id": "SbQYt2qfK3QX",
        "outputId": "59e4a0bf-3344-4aba-c3da-d49c8b3043dc",
        "colab": {
          "base_uri": "https://localhost:8080/"
        }
      },
      "execution_count": 18,
      "outputs": [
        {
          "output_type": "stream",
          "name": "stdout",
          "text": [
            "  school sex  age address famsize Pstatus  Medu  Fedu     Mjob      Fjob  ...  \\\n",
            "0     GP   F   18       U     GT3       A     4     4  at_home   teacher  ...   \n",
            "1     GP   F   17       U     GT3       T     1     1  at_home     other  ...   \n",
            "2     GP   F   15       U     LE3       T     1     1  at_home     other  ...   \n",
            "3     GP   F   15       U     GT3       T     4     2   health  services  ...   \n",
            "4     GP   F   16       U     GT3       T     3     3    other     other  ...   \n",
            "\n",
            "  famrel freetime  goout  Dalc  Walc health absences  G1  G2  G3  \n",
            "0      4        3      4     1     1      3        6   5   6   6  \n",
            "1      5        3      3     1     1      3        4   5   5   6  \n",
            "2      4        3      2     2     3      3       10   7   8  10  \n",
            "3      3        2      2     1     1      5        2  15  14  15  \n",
            "4      4        3      2     1     2      5        4   6  10  10  \n",
            "\n",
            "[5 rows x 33 columns]\n"
          ]
        }
      ]
    },
    {
      "cell_type": "code",
      "source": [
        "# Información general.\n",
        "print(df.info())"
      ],
      "metadata": {
        "id": "apL_jdvVC_rt",
        "outputId": "10cf2799-6942-41cd-aa29-6e5cf8a215f8",
        "colab": {
          "base_uri": "https://localhost:8080/"
        }
      },
      "execution_count": 19,
      "outputs": [
        {
          "output_type": "stream",
          "name": "stdout",
          "text": [
            "<class 'pandas.core.frame.DataFrame'>\n",
            "RangeIndex: 395 entries, 0 to 394\n",
            "Data columns (total 33 columns):\n",
            " #   Column      Non-Null Count  Dtype \n",
            "---  ------      --------------  ----- \n",
            " 0   school      395 non-null    object\n",
            " 1   sex         395 non-null    object\n",
            " 2   age         395 non-null    int64 \n",
            " 3   address     395 non-null    object\n",
            " 4   famsize     395 non-null    object\n",
            " 5   Pstatus     395 non-null    object\n",
            " 6   Medu        395 non-null    int64 \n",
            " 7   Fedu        395 non-null    int64 \n",
            " 8   Mjob        395 non-null    object\n",
            " 9   Fjob        395 non-null    object\n",
            " 10  reason      395 non-null    object\n",
            " 11  guardian    395 non-null    object\n",
            " 12  traveltime  395 non-null    int64 \n",
            " 13  studytime   395 non-null    int64 \n",
            " 14  failures    395 non-null    int64 \n",
            " 15  schoolsup   395 non-null    object\n",
            " 16  famsup      395 non-null    object\n",
            " 17  paid        395 non-null    object\n",
            " 18  activities  395 non-null    object\n",
            " 19  nursery     395 non-null    object\n",
            " 20  higher      395 non-null    object\n",
            " 21  internet    395 non-null    object\n",
            " 22  romantic    395 non-null    object\n",
            " 23  famrel      395 non-null    int64 \n",
            " 24  freetime    395 non-null    int64 \n",
            " 25  goout       395 non-null    int64 \n",
            " 26  Dalc        395 non-null    int64 \n",
            " 27  Walc        395 non-null    int64 \n",
            " 28  health      395 non-null    int64 \n",
            " 29  absences    395 non-null    int64 \n",
            " 30  G1          395 non-null    int64 \n",
            " 31  G2          395 non-null    int64 \n",
            " 32  G3          395 non-null    int64 \n",
            "dtypes: int64(16), object(17)\n",
            "memory usage: 102.0+ KB\n",
            "None\n"
          ]
        }
      ]
    },
    {
      "cell_type": "code",
      "source": [
        "# Verifición de valores nulos.\n",
        "print(df.isnull().sum())"
      ],
      "metadata": {
        "id": "He-6PWcFL9Ng",
        "outputId": "cb1bbb16-0262-4ec8-e932-5b8fa24973c4",
        "colab": {
          "base_uri": "https://localhost:8080/"
        }
      },
      "execution_count": 20,
      "outputs": [
        {
          "output_type": "stream",
          "name": "stdout",
          "text": [
            "school        0\n",
            "sex           0\n",
            "age           0\n",
            "address       0\n",
            "famsize       0\n",
            "Pstatus       0\n",
            "Medu          0\n",
            "Fedu          0\n",
            "Mjob          0\n",
            "Fjob          0\n",
            "reason        0\n",
            "guardian      0\n",
            "traveltime    0\n",
            "studytime     0\n",
            "failures      0\n",
            "schoolsup     0\n",
            "famsup        0\n",
            "paid          0\n",
            "activities    0\n",
            "nursery       0\n",
            "higher        0\n",
            "internet      0\n",
            "romantic      0\n",
            "famrel        0\n",
            "freetime      0\n",
            "goout         0\n",
            "Dalc          0\n",
            "Walc          0\n",
            "health        0\n",
            "absences      0\n",
            "G1            0\n",
            "G2            0\n",
            "G3            0\n",
            "dtype: int64\n"
          ]
        }
      ]
    },
    {
      "cell_type": "code",
      "source": [
        "# Verificar las columnas disponibles.\n",
        "print(df.columns)"
      ],
      "metadata": {
        "id": "ujq4KIgSMK5Y",
        "outputId": "c195ec3b-47c1-436b-87ca-b95985d62a27",
        "colab": {
          "base_uri": "https://localhost:8080/"
        }
      },
      "execution_count": 21,
      "outputs": [
        {
          "output_type": "stream",
          "name": "stdout",
          "text": [
            "Index(['school', 'sex', 'age', 'address', 'famsize', 'Pstatus', 'Medu', 'Fedu',\n",
            "       'Mjob', 'Fjob', 'reason', 'guardian', 'traveltime', 'studytime',\n",
            "       'failures', 'schoolsup', 'famsup', 'paid', 'activities', 'nursery',\n",
            "       'higher', 'internet', 'romantic', 'famrel', 'freetime', 'goout', 'Dalc',\n",
            "       'Walc', 'health', 'absences', 'G1', 'G2', 'G3'],\n",
            "      dtype='object')\n"
          ]
        }
      ]
    },
    {
      "cell_type": "code",
      "source": [
        "\n",
        "# Describir estadísticamente las columnas numéricas\n",
        "print(df.describe())"
      ],
      "metadata": {
        "id": "ssJhSKSRMT_o",
        "outputId": "461e1102-a6f7-4640-a946-1d10fc9ce749",
        "colab": {
          "base_uri": "https://localhost:8080/"
        }
      },
      "execution_count": 22,
      "outputs": [
        {
          "output_type": "stream",
          "name": "stdout",
          "text": [
            "              age        Medu        Fedu  traveltime   studytime    failures  \\\n",
            "count  395.000000  395.000000  395.000000  395.000000  395.000000  395.000000   \n",
            "mean    16.696203    2.749367    2.521519    1.448101    2.035443    0.334177   \n",
            "std      1.276043    1.094735    1.088201    0.697505    0.839240    0.743651   \n",
            "min     15.000000    0.000000    0.000000    1.000000    1.000000    0.000000   \n",
            "25%     16.000000    2.000000    2.000000    1.000000    1.000000    0.000000   \n",
            "50%     17.000000    3.000000    2.000000    1.000000    2.000000    0.000000   \n",
            "75%     18.000000    4.000000    3.000000    2.000000    2.000000    0.000000   \n",
            "max     22.000000    4.000000    4.000000    4.000000    4.000000    3.000000   \n",
            "\n",
            "           famrel    freetime       goout        Dalc        Walc      health  \\\n",
            "count  395.000000  395.000000  395.000000  395.000000  395.000000  395.000000   \n",
            "mean     3.944304    3.235443    3.108861    1.481013    2.291139    3.554430   \n",
            "std      0.896659    0.998862    1.113278    0.890741    1.287897    1.390303   \n",
            "min      1.000000    1.000000    1.000000    1.000000    1.000000    1.000000   \n",
            "25%      4.000000    3.000000    2.000000    1.000000    1.000000    3.000000   \n",
            "50%      4.000000    3.000000    3.000000    1.000000    2.000000    4.000000   \n",
            "75%      5.000000    4.000000    4.000000    2.000000    3.000000    5.000000   \n",
            "max      5.000000    5.000000    5.000000    5.000000    5.000000    5.000000   \n",
            "\n",
            "         absences          G1          G2          G3  \n",
            "count  395.000000  395.000000  395.000000  395.000000  \n",
            "mean     5.708861   10.908861   10.713924   10.415190  \n",
            "std      8.003096    3.319195    3.761505    4.581443  \n",
            "min      0.000000    3.000000    0.000000    0.000000  \n",
            "25%      0.000000    8.000000    9.000000    8.000000  \n",
            "50%      4.000000   11.000000   11.000000   11.000000  \n",
            "75%      8.000000   13.000000   13.000000   14.000000  \n",
            "max     75.000000   19.000000   19.000000   20.000000  \n"
          ]
        }
      ]
    }
  ],
  "metadata": {
    "colab": {
      "name": "Te damos la bienvenida a Colaboratory",
      "toc_visible": true,
      "provenance": [],
      "include_colab_link": true
    },
    "kernelspec": {
      "display_name": "Python 3",
      "name": "python3"
    }
  },
  "nbformat": 4,
  "nbformat_minor": 0
}